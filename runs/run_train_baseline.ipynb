{
 "cells": [
  {
   "cell_type": "code",
   "execution_count": 10,
   "metadata": {
    "collapsed": true
   },
   "outputs": [
    {
     "name": "stdout",
     "output_type": "stream",
     "text": [
      "--------------------------------------------------\n",
      "TRAIN\n",
      "--------------------------------------------------\n",
      "run time:  2021-10-06 17:10:21\n",
      "args: \n",
      "+ config_file: /media/pc/WORK/DNTAI/works/prlab/2021/projects/210912_prlab_kerc21_challenges/workspaces/KERC21Baseline/configs/config.ini\n",
      "+ debug: 0\n",
      "+ evalf: ['exp_dir']\n",
      "+ exp_dir: /media/pc/WORK/DNTAI/works/prlab/2021/projects/210912_prlab_kerc21_challenges/workspaces/KERC21Baseline/logs/baseline1\n",
      "+ gpu: 0\n",
      "+ logs_file: logs.txt\n",
      "+ model_path: saved_model/saved_model_lastest.pt\n",
      "+ seed: 42\n",
      "config: {'batch_size': 400,\n",
      " 'cat_personality': 4,\n",
      " 'clf_out': 4,\n",
      " 'dataset_dir': '/media/pc/WORK/DNTAI/works/prlab/2021/projects/210912_prlab_kerc21_challenges/workspaces/KERC21Baseline/data/KERC21Dataset/preprocessed',\n",
      " 'dropout': 0.5,\n",
      " 'epochs': 575,\n",
      " 'learning_rate': 0.0001,\n",
      " 'lstm_hidden_dim': 128,\n",
      " 'lstm_num_layers': 2,\n",
      " 'size_bvp': 17,\n",
      " 'size_eda': 5,\n",
      " 'size_eeg_stat': 294,\n",
      " 'size_personality': 5}\n",
      "gpu: cuda:0 / 2 devices\n",
      "seed: 42\n",
      "--------------------------------------------------\n",
      "Training: \n",
      "+ exp_dir: /media/pc/WORK/DNTAI/works/prlab/2021/projects/210912_prlab_kerc21_challenges/workspaces/KERC21Baseline/logs/baseline1\n",
      "+ model_path: saved_model/saved_model_lastest.pt\n",
      "+ logs_file: logs.txt\n"
     ]
    },
    {
     "name": "stderr",
     "output_type": "stream",
     "text": [
      "Epoch:   0%|          | 0/575 [00:00<?, ?it/s]\n",
      "\u001B[A\n",
      "                                              ss:0.7845, Best Epoch: 1\u001B[A\r\n",
      "Epoch:   0%|          | 0/575 [00:00<?, ?it/s]                        \n",
      "Epoch:   0%|          | 1/575 [00:00<09:09,  1.04it/s]5, Best Epoch: 1\u001B[A"
     ]
    },
    {
     "name": "stdout",
     "output_type": "stream",
     "text": [
      "Epoch 1/575,  Loss:0.7845, F1:0.2362,  Best Loss:0.7845, Best Epoch: 1\n"
     ]
    },
    {
     "name": "stderr",
     "output_type": "stream",
     "text": [
      "\n",
      "                                                      6, Best Epoch: 2\u001B[A\r\n",
      "Epoch:   0%|          | 1/575 [00:01<09:09,  1.04it/s]                \n",
      "Epoch:   0%|          | 2/575 [00:01<08:55,  1.07it/s]6, Best Epoch: 2\u001B[A"
     ]
    },
    {
     "name": "stdout",
     "output_type": "stream",
     "text": [
      "Epoch 2/575,  Loss:0.7826, F1:0.2522,  Best Loss:0.7826, Best Epoch: 2\n"
     ]
    },
    {
     "name": "stderr",
     "output_type": "stream",
     "text": [
      "\n",
      "                                                      9, Best Epoch: 3\u001B[A\r\n",
      "Epoch:   0%|          | 2/575 [00:02<08:55,  1.07it/s]                \n",
      "Epoch:   1%|          | 3/575 [00:02<08:48,  1.08it/s]9, Best Epoch: 3\u001B[A"
     ]
    },
    {
     "name": "stdout",
     "output_type": "stream",
     "text": [
      "Epoch 3/575,  Loss:0.7809, F1:0.2609,  Best Loss:0.7809, Best Epoch: 3\n"
     ]
    },
    {
     "name": "stderr",
     "output_type": "stream",
     "text": [
      "\n",
      "                                                      2, Best Epoch: 4\u001B[A\r\n",
      "Epoch:   1%|          | 3/575 [00:03<08:48,  1.08it/s]                \n",
      "Epoch:   1%|          | 4/575 [00:03<08:46,  1.09it/s]2, Best Epoch: 4\u001B[A"
     ]
    },
    {
     "name": "stdout",
     "output_type": "stream",
     "text": [
      "Epoch 4/575,  Loss:0.7792, F1:0.2696,  Best Loss:0.7792, Best Epoch: 4\n"
     ]
    },
    {
     "name": "stderr",
     "output_type": "stream",
     "text": [
      "\n",
      "                                                      4, Best Epoch: 5\u001B[A\r\n",
      "Epoch:   1%|          | 4/575 [00:04<08:46,  1.09it/s]                \n",
      "Epoch:   1%|          | 5/575 [00:04<08:45,  1.08it/s]4, Best Epoch: 5\u001B[A"
     ]
    },
    {
     "name": "stdout",
     "output_type": "stream",
     "text": [
      "Epoch 5/575,  Loss:0.7774, F1:0.2913,  Best Loss:0.7774, Best Epoch: 5\n"
     ]
    },
    {
     "name": "stderr",
     "output_type": "stream",
     "text": [
      "\n",
      "                                                      9, Best Epoch: 6\u001B[A\r\n",
      "Epoch:   1%|          | 5/575 [00:05<08:45,  1.08it/s]                \n",
      "Epoch:   1%|          | 6/575 [00:05<08:42,  1.09it/s]9, Best Epoch: 6\u001B[A"
     ]
    },
    {
     "name": "stdout",
     "output_type": "stream",
     "text": [
      "Epoch 6/575,  Loss:0.7759, F1:0.3043,  Best Loss:0.7759, Best Epoch: 6\n"
     ]
    },
    {
     "name": "stderr",
     "output_type": "stream",
     "text": [
      "\n",
      "                                                      3, Best Epoch: 7\u001B[A\r\n",
      "Epoch:   1%|          | 6/575 [00:06<08:42,  1.09it/s]                \n",
      "Epoch:   1%|          | 7/575 [00:06<08:55,  1.06it/s]3, Best Epoch: 7\u001B[A"
     ]
    },
    {
     "name": "stdout",
     "output_type": "stream",
     "text": [
      "Epoch 7/575,  Loss:0.7743, F1:0.3203,  Best Loss:0.7743, Best Epoch: 7\n"
     ]
    },
    {
     "name": "stderr",
     "output_type": "stream",
     "text": [
      "\n",
      "                                                      8, Best Epoch: 8\u001B[A\r\n",
      "Epoch:   1%|          | 7/575 [00:07<08:55,  1.06it/s]                \n",
      "Epoch:   1%|▏         | 8/575 [00:07<08:50,  1.07it/s]8, Best Epoch: 8\u001B[A"
     ]
    },
    {
     "name": "stdout",
     "output_type": "stream",
     "text": [
      "Epoch 8/575,  Loss:0.7728, F1:0.3304,  Best Loss:0.7728, Best Epoch: 8\n"
     ]
    },
    {
     "name": "stderr",
     "output_type": "stream",
     "text": [
      "\n",
      "                                                      5, Best Epoch: 9\u001B[A\r\n",
      "Epoch:   1%|▏         | 8/575 [00:08<08:50,  1.07it/s]                \n",
      "Epoch:   2%|▏         | 9/575 [00:08<08:51,  1.06it/s]5, Best Epoch: 9\u001B[A"
     ]
    },
    {
     "name": "stdout",
     "output_type": "stream",
     "text": [
      "Epoch 9/575,  Loss:0.7715, F1:0.3377,  Best Loss:0.7715, Best Epoch: 9\n"
     ]
    },
    {
     "name": "stderr",
     "output_type": "stream",
     "text": [
      "\n",
      "                                                      01, Best Epoch: 10\u001B[A\r\n",
      "Epoch:   2%|▏         | 9/575 [00:09<08:51,  1.06it/s]                  \n",
      "Epoch:   2%|▏         | 10/575 [00:09<08:44,  1.08it/s]1, Best Epoch: 10\u001B[A"
     ]
    },
    {
     "name": "stdout",
     "output_type": "stream",
     "text": [
      "Epoch 10/575,  Loss:0.7701, F1:0.3493,  Best Loss:0.7701, Best Epoch: 10\n"
     ]
    },
    {
     "name": "stderr",
     "output_type": "stream",
     "text": [
      "\n",
      "                                                       8, Best Epoch: 11\u001B[A\r\n",
      "Epoch:   2%|▏         | 10/575 [00:10<08:44,  1.08it/s]                 \n",
      "Epoch:   2%|▏         | 11/575 [00:10<08:41,  1.08it/s]8, Best Epoch: 11\u001B[A"
     ]
    },
    {
     "name": "stdout",
     "output_type": "stream",
     "text": [
      "Epoch 11/575,  Loss:0.7688, F1:0.3551,  Best Loss:0.7688, Best Epoch: 11\n"
     ]
    },
    {
     "name": "stderr",
     "output_type": "stream",
     "text": [
      "\n",
      "                                                       5, Best Epoch: 12\u001B[A\r\n",
      "Epoch:   2%|▏         | 11/575 [00:11<08:41,  1.08it/s]                 \n",
      "Epoch:   2%|▏         | 12/575 [00:11<08:39,  1.08it/s]5, Best Epoch: 12\u001B[A"
     ]
    },
    {
     "name": "stdout",
     "output_type": "stream",
     "text": [
      "Epoch 12/575,  Loss:0.7675, F1:0.3667,  Best Loss:0.7675, Best Epoch: 12\n"
     ]
    },
    {
     "name": "stderr",
     "output_type": "stream",
     "text": [
      "\n",
      "                                                       2, Best Epoch: 13\u001B[A\r\n",
      "Epoch:   2%|▏         | 12/575 [00:12<08:39,  1.08it/s]                 \n",
      "Epoch:   2%|▏         | 13/575 [00:12<08:39,  1.08it/s]2, Best Epoch: 13\u001B[A"
     ]
    },
    {
     "name": "stdout",
     "output_type": "stream",
     "text": [
      "Epoch 13/575,  Loss:0.7662, F1:0.3710,  Best Loss:0.7662, Best Epoch: 13\n"
     ]
    },
    {
     "name": "stderr",
     "output_type": "stream",
     "text": [
      "\n",
      "                                                       9, Best Epoch: 14\u001B[A\r\n",
      "Epoch:   2%|▏         | 13/575 [00:12<08:39,  1.08it/s]                 \n",
      "Epoch:   2%|▏         | 14/575 [00:12<08:35,  1.09it/s]9, Best Epoch: 14\u001B[A"
     ]
    },
    {
     "name": "stdout",
     "output_type": "stream",
     "text": [
      "Epoch 14/575,  Loss:0.7649, F1:0.3783,  Best Loss:0.7649, Best Epoch: 14\n"
     ]
    },
    {
     "name": "stderr",
     "output_type": "stream",
     "text": [
      "\n",
      "                                                       7, Best Epoch: 15\u001B[A\r\n",
      "Epoch:   2%|▏         | 14/575 [00:13<08:35,  1.09it/s]                 \n",
      "Epoch:   3%|▎         | 15/575 [00:13<08:31,  1.09it/s]7, Best Epoch: 15\u001B[A"
     ]
    },
    {
     "name": "stdout",
     "output_type": "stream",
     "text": [
      "Epoch 15/575,  Loss:0.7637, F1:0.3942,  Best Loss:0.7637, Best Epoch: 15\n"
     ]
    },
    {
     "name": "stderr",
     "output_type": "stream",
     "text": [
      "\n",
      "                                                       5, Best Epoch: 16\u001B[A\r\n",
      "Epoch:   3%|▎         | 15/575 [00:14<08:31,  1.09it/s]                 \n",
      "Epoch:   3%|▎         | 16/575 [00:14<08:30,  1.10it/s]5, Best Epoch: 16\u001B[A"
     ]
    },
    {
     "name": "stdout",
     "output_type": "stream",
     "text": [
      "Epoch 16/575,  Loss:0.7625, F1:0.4043,  Best Loss:0.7625, Best Epoch: 16\n"
     ]
    },
    {
     "name": "stderr",
     "output_type": "stream",
     "text": [
      "\n",
      "                                                       3, Best Epoch: 17\u001B[A\r\n",
      "Epoch:   3%|▎         | 16/575 [00:15<08:30,  1.10it/s]                 \n",
      "Epoch:   3%|▎         | 17/575 [00:15<08:29,  1.09it/s]3, Best Epoch: 17\u001B[A"
     ]
    },
    {
     "name": "stdout",
     "output_type": "stream",
     "text": [
      "Epoch 17/575,  Loss:0.7613, F1:0.4116,  Best Loss:0.7613, Best Epoch: 17\n"
     ]
    },
    {
     "name": "stderr",
     "output_type": "stream",
     "text": [
      "\n",
      "                                                       1, Best Epoch: 18\u001B[A\r\n",
      "Epoch:   3%|▎         | 17/575 [00:16<08:29,  1.09it/s]                 \n",
      "Epoch:   3%|▎         | 18/575 [00:16<08:28,  1.09it/s]1, Best Epoch: 18\u001B[A"
     ]
    },
    {
     "name": "stdout",
     "output_type": "stream",
     "text": [
      "Epoch 18/575,  Loss:0.7601, F1:0.4116,  Best Loss:0.7601, Best Epoch: 18\n"
     ]
    },
    {
     "name": "stderr",
     "output_type": "stream",
     "text": [
      "\n",
      "                                                       9, Best Epoch: 19\u001B[A\r\n",
      "Epoch:   3%|▎         | 18/575 [00:17<08:28,  1.09it/s]                 \n",
      "Epoch:   3%|▎         | 19/575 [00:17<08:28,  1.09it/s]9, Best Epoch: 19\u001B[A"
     ]
    },
    {
     "name": "stdout",
     "output_type": "stream",
     "text": [
      "Epoch 19/575,  Loss:0.7589, F1:0.4174,  Best Loss:0.7589, Best Epoch: 19\n"
     ]
    },
    {
     "name": "stderr",
     "output_type": "stream",
     "text": [
      "\n",
      "                                                       7, Best Epoch: 20\u001B[A\r\n",
      "Epoch:   3%|▎         | 19/575 [00:18<08:28,  1.09it/s]                 \n",
      "Epoch:   3%|▎         | 20/575 [00:18<08:27,  1.09it/s]7, Best Epoch: 20\u001B[A"
     ]
    },
    {
     "name": "stdout",
     "output_type": "stream",
     "text": [
      "Epoch 20/575,  Loss:0.7577, F1:0.4203,  Best Loss:0.7577, Best Epoch: 20\n"
     ]
    },
    {
     "name": "stderr",
     "output_type": "stream",
     "text": [
      "\n",
      "                                                       5, Best Epoch: 21\u001B[A\r\n",
      "Epoch:   3%|▎         | 20/575 [00:19<08:27,  1.09it/s]                 \n",
      "Epoch:   4%|▎         | 21/575 [00:19<08:25,  1.10it/s]5, Best Epoch: 21\u001B[A"
     ]
    },
    {
     "name": "stdout",
     "output_type": "stream",
     "text": [
      "Epoch 21/575,  Loss:0.7565, F1:0.4304,  Best Loss:0.7565, Best Epoch: 21\n"
     ]
    },
    {
     "name": "stderr",
     "output_type": "stream",
     "text": [
      "\n",
      "                                                       3, Best Epoch: 22\u001B[A\r\n",
      "Epoch:   4%|▎         | 21/575 [00:20<08:25,  1.10it/s]                 \n",
      "Epoch:   4%|▍         | 22/575 [00:20<08:30,  1.08it/s]3, Best Epoch: 22\u001B[A"
     ]
    },
    {
     "name": "stdout",
     "output_type": "stream",
     "text": [
      "Epoch 22/575,  Loss:0.7553, F1:0.4348,  Best Loss:0.7553, Best Epoch: 22\n"
     ]
    },
    {
     "name": "stderr",
     "output_type": "stream",
     "text": [
      "\n",
      "                                                       1, Best Epoch: 23\u001B[A\r\n",
      "Epoch:   4%|▍         | 22/575 [00:21<08:30,  1.08it/s]                 \n",
      "Epoch:   4%|▍         | 23/575 [00:21<08:29,  1.08it/s]1, Best Epoch: 23\u001B[A"
     ]
    },
    {
     "name": "stdout",
     "output_type": "stream",
     "text": [
      "Epoch 23/575,  Loss:0.7541, F1:0.4377,  Best Loss:0.7541, Best Epoch: 23\n"
     ]
    },
    {
     "name": "stderr",
     "output_type": "stream",
     "text": [
      "\n",
      "                                                       0, Best Epoch: 24\u001B[A\r\n",
      "Epoch:   4%|▍         | 23/575 [00:22<08:29,  1.08it/s]                 \n",
      "Epoch:   4%|▍         | 24/575 [00:22<08:28,  1.08it/s]0, Best Epoch: 24\u001B[A"
     ]
    },
    {
     "name": "stdout",
     "output_type": "stream",
     "text": [
      "Epoch 24/575,  Loss:0.7530, F1:0.4406,  Best Loss:0.7530, Best Epoch: 24\n"
     ]
    },
    {
     "name": "stderr",
     "output_type": "stream",
     "text": [
      "\n",
      "                                                       8, Best Epoch: 25\u001B[A\r\n",
      "Epoch:   4%|▍         | 24/575 [00:23<08:28,  1.08it/s]                 \n",
      "Epoch:   4%|▍         | 25/575 [00:23<08:25,  1.09it/s]8, Best Epoch: 25\u001B[A"
     ]
    },
    {
     "name": "stdout",
     "output_type": "stream",
     "text": [
      "Epoch 25/575,  Loss:0.7518, F1:0.4478,  Best Loss:0.7518, Best Epoch: 25\n"
     ]
    },
    {
     "name": "stderr",
     "output_type": "stream",
     "text": [
      "\n",
      "                                                       6, Best Epoch: 26\u001B[A\r\n",
      "Epoch:   4%|▍         | 25/575 [00:23<08:25,  1.09it/s]                 \n",
      "Epoch:   5%|▍         | 26/575 [00:23<08:25,  1.09it/s]6, Best Epoch: 26\u001B[A"
     ]
    },
    {
     "name": "stdout",
     "output_type": "stream",
     "text": [
      "Epoch 26/575,  Loss:0.7506, F1:0.4493,  Best Loss:0.7506, Best Epoch: 26\n"
     ]
    },
    {
     "name": "stderr",
     "output_type": "stream",
     "text": [
      "\n",
      "                                                       5, Best Epoch: 27\u001B[A\r\n",
      "Epoch:   5%|▍         | 26/575 [00:24<08:25,  1.09it/s]                 \n",
      "Epoch:   5%|▍         | 27/575 [00:24<08:25,  1.08it/s]5, Best Epoch: 27\u001B[A"
     ]
    },
    {
     "name": "stdout",
     "output_type": "stream",
     "text": [
      "Epoch 27/575,  Loss:0.7495, F1:0.4565,  Best Loss:0.7495, Best Epoch: 27\n"
     ]
    },
    {
     "name": "stderr",
     "output_type": "stream",
     "text": [
      "\n",
      "                                                       4, Best Epoch: 28\u001B[A\r\n",
      "Epoch:   5%|▍         | 27/575 [00:25<08:25,  1.08it/s]                 \n",
      "Epoch:   5%|▍         | 28/575 [00:25<08:23,  1.09it/s]4, Best Epoch: 28\u001B[A"
     ]
    },
    {
     "name": "stdout",
     "output_type": "stream",
     "text": [
      "Epoch 28/575,  Loss:0.7484, F1:0.4609,  Best Loss:0.7484, Best Epoch: 28\n"
     ]
    },
    {
     "name": "stderr",
     "output_type": "stream",
     "text": [
      "\n",
      "                                                       2, Best Epoch: 29\u001B[A\r\n",
      "Epoch:   5%|▍         | 28/575 [00:26<08:23,  1.09it/s]                 \n",
      "Epoch:   5%|▌         | 29/575 [00:26<08:22,  1.09it/s]2, Best Epoch: 29\u001B[A"
     ]
    },
    {
     "name": "stdout",
     "output_type": "stream",
     "text": [
      "Epoch 29/575,  Loss:0.7472, F1:0.4580,  Best Loss:0.7472, Best Epoch: 29\n"
     ]
    },
    {
     "name": "stderr",
     "output_type": "stream",
     "text": [
      "\n",
      "                                                       0, Best Epoch: 30\u001B[A\r\n",
      "Epoch:   5%|▌         | 29/575 [00:27<08:22,  1.09it/s]                 \n",
      "Epoch:   5%|▌         | 30/575 [00:27<08:24,  1.08it/s]0, Best Epoch: 30\u001B[A"
     ]
    },
    {
     "name": "stdout",
     "output_type": "stream",
     "text": [
      "Epoch 30/575,  Loss:0.7460, F1:0.4623,  Best Loss:0.7460, Best Epoch: 30\n"
     ]
    },
    {
     "name": "stderr",
     "output_type": "stream",
     "text": [
      "\n",
      "                                                       8, Best Epoch: 31\u001B[A\r\n",
      "Epoch:   5%|▌         | 30/575 [00:28<08:24,  1.08it/s]                 \n",
      "Epoch:   5%|▌         | 31/575 [00:28<08:23,  1.08it/s]8, Best Epoch: 31\u001B[A"
     ]
    },
    {
     "name": "stdout",
     "output_type": "stream",
     "text": [
      "Epoch 31/575,  Loss:0.7448, F1:0.4710,  Best Loss:0.7448, Best Epoch: 31\n"
     ]
    },
    {
     "name": "stderr",
     "output_type": "stream",
     "text": [
      "\n",
      "                                                       7, Best Epoch: 32\u001B[A\r\n",
      "Epoch:   5%|▌         | 31/575 [00:29<08:23,  1.08it/s]                 \n",
      "Epoch:   6%|▌         | 32/575 [00:29<08:20,  1.08it/s]7, Best Epoch: 32\u001B[A"
     ]
    },
    {
     "name": "stdout",
     "output_type": "stream",
     "text": [
      "Epoch 32/575,  Loss:0.7437, F1:0.4739,  Best Loss:0.7437, Best Epoch: 32\n"
     ]
    },
    {
     "name": "stderr",
     "output_type": "stream",
     "text": [
      "\n",
      "                                                       5, Best Epoch: 33\u001B[A\r\n",
      "Epoch:   6%|▌         | 32/575 [00:30<08:20,  1.08it/s]                 \n",
      "Epoch:   6%|▌         | 33/575 [00:30<08:16,  1.09it/s]5, Best Epoch: 33\u001B[A"
     ]
    },
    {
     "name": "stdout",
     "output_type": "stream",
     "text": [
      "Epoch 33/575,  Loss:0.7425, F1:0.4754,  Best Loss:0.7425, Best Epoch: 33\n"
     ]
    },
    {
     "name": "stderr",
     "output_type": "stream",
     "text": [
      "\n",
      "                                                       4, Best Epoch: 34\u001B[A\r\n",
      "Epoch:   6%|▌         | 33/575 [00:31<08:16,  1.09it/s]                 \n",
      "Epoch:   6%|▌         | 34/575 [00:31<08:16,  1.09it/s]4, Best Epoch: 34\u001B[A"
     ]
    },
    {
     "name": "stdout",
     "output_type": "stream",
     "text": [
      "Epoch 34/575,  Loss:0.7414, F1:0.4768,  Best Loss:0.7414, Best Epoch: 34\n"
     ]
    },
    {
     "name": "stderr",
     "output_type": "stream",
     "text": [
      "\n",
      "                                                       3, Best Epoch: 35\u001B[A\r\n",
      "Epoch:   6%|▌         | 34/575 [00:32<08:16,  1.09it/s]                 \n",
      "Epoch:   6%|▌         | 35/575 [00:32<08:13,  1.09it/s]3, Best Epoch: 35\u001B[A"
     ]
    },
    {
     "name": "stdout",
     "output_type": "stream",
     "text": [
      "Epoch 35/575,  Loss:0.7403, F1:0.4797,  Best Loss:0.7403, Best Epoch: 35\n"
     ]
    },
    {
     "name": "stderr",
     "output_type": "stream",
     "text": [
      "\n",
      "                                                       2, Best Epoch: 36\u001B[A\r\n",
      "Epoch:   6%|▌         | 35/575 [00:33<08:13,  1.09it/s]                 \n",
      "Epoch:   6%|▋         | 36/575 [00:33<08:10,  1.10it/s]2, Best Epoch: 36\u001B[A"
     ]
    },
    {
     "name": "stdout",
     "output_type": "stream",
     "text": [
      "Epoch 36/575,  Loss:0.7392, F1:0.4855,  Best Loss:0.7392, Best Epoch: 36\n"
     ]
    },
    {
     "name": "stderr",
     "output_type": "stream",
     "text": [
      "\n",
      "                                                       1, Best Epoch: 37\u001B[A\r\n",
      "Epoch:   6%|▋         | 36/575 [00:34<08:10,  1.10it/s]                 \n",
      "Epoch:   6%|▋         | 37/575 [00:34<08:07,  1.10it/s]1, Best Epoch: 37\u001B[A"
     ]
    },
    {
     "name": "stdout",
     "output_type": "stream",
     "text": [
      "Epoch 37/575,  Loss:0.7381, F1:0.4913,  Best Loss:0.7381, Best Epoch: 37\n"
     ]
    },
    {
     "name": "stderr",
     "output_type": "stream",
     "text": [
      "\n",
      "                                                       0, Best Epoch: 38\u001B[A\r\n",
      "Epoch:   6%|▋         | 37/575 [00:34<08:07,  1.10it/s]                 \n",
      "Epoch:   7%|▋         | 38/575 [00:34<08:06,  1.10it/s]0, Best Epoch: 38\u001B[A"
     ]
    },
    {
     "name": "stdout",
     "output_type": "stream",
     "text": [
      "Epoch 38/575,  Loss:0.7370, F1:0.4928,  Best Loss:0.7370, Best Epoch: 38\n"
     ]
    },
    {
     "name": "stderr",
     "output_type": "stream",
     "text": [
      "\n",
      "                                                       8, Best Epoch: 39\u001B[A\r\n",
      "Epoch:   7%|▋         | 38/575 [00:35<08:06,  1.10it/s]                 \n",
      "Epoch:   7%|▋         | 39/575 [00:35<08:08,  1.10it/s]8, Best Epoch: 39\u001B[A"
     ]
    },
    {
     "name": "stdout",
     "output_type": "stream",
     "text": [
      "Epoch 39/575,  Loss:0.7358, F1:0.4971,  Best Loss:0.7358, Best Epoch: 39\n"
     ]
    },
    {
     "name": "stderr",
     "output_type": "stream",
     "text": [
      "\n",
      "                                                       7, Best Epoch: 40\u001B[A\r\n",
      "Epoch:   7%|▋         | 39/575 [00:36<08:08,  1.10it/s]                 \n",
      "Epoch:   7%|▋         | 40/575 [00:36<08:13,  1.08it/s]7, Best Epoch: 40\u001B[A"
     ]
    },
    {
     "name": "stdout",
     "output_type": "stream",
     "text": [
      "Epoch 40/575,  Loss:0.7347, F1:0.4971,  Best Loss:0.7347, Best Epoch: 40\n"
     ]
    },
    {
     "name": "stderr",
     "output_type": "stream",
     "text": [
      "\n",
      "                                                       5, Best Epoch: 41\u001B[A\r\n",
      "Epoch:   7%|▋         | 40/575 [00:37<08:13,  1.08it/s]                 \n",
      "Epoch:   7%|▋         | 41/575 [00:37<08:16,  1.08it/s]5, Best Epoch: 41\u001B[A"
     ]
    },
    {
     "name": "stdout",
     "output_type": "stream",
     "text": [
      "Epoch 41/575,  Loss:0.7335, F1:0.4971,  Best Loss:0.7335, Best Epoch: 41\n"
     ]
    },
    {
     "name": "stderr",
     "output_type": "stream",
     "text": [
      "\n",
      "                                                       4, Best Epoch: 42\u001B[A\r\n",
      "Epoch:   7%|▋         | 41/575 [00:38<08:16,  1.08it/s]                 \n",
      "Epoch:   7%|▋         | 42/575 [00:38<08:19,  1.07it/s]4, Best Epoch: 42\u001B[A"
     ]
    },
    {
     "name": "stdout",
     "output_type": "stream",
     "text": [
      "Epoch 42/575,  Loss:0.7324, F1:0.5000,  Best Loss:0.7324, Best Epoch: 42\n"
     ]
    },
    {
     "name": "stderr",
     "output_type": "stream",
     "text": [
      "\n",
      "                                                       2, Best Epoch: 43\u001B[A\r\n",
      "Epoch:   7%|▋         | 42/575 [00:39<08:19,  1.07it/s]                 \n",
      "Epoch:   7%|▋         | 43/575 [00:39<08:19,  1.06it/s]2, Best Epoch: 43\u001B[A"
     ]
    },
    {
     "name": "stdout",
     "output_type": "stream",
     "text": [
      "Epoch 43/575,  Loss:0.7312, F1:0.5043,  Best Loss:0.7312, Best Epoch: 43\n"
     ]
    },
    {
     "name": "stderr",
     "output_type": "stream",
     "text": [
      "\n",
      "                                                       1, Best Epoch: 44\u001B[A\r\n",
      "Epoch:   7%|▋         | 43/575 [00:40<08:19,  1.06it/s]                 \n",
      "Epoch:   8%|▊         | 44/575 [00:40<08:14,  1.07it/s]1, Best Epoch: 44\u001B[A"
     ]
    },
    {
     "name": "stdout",
     "output_type": "stream",
     "text": [
      "Epoch 44/575,  Loss:0.7301, F1:0.5101,  Best Loss:0.7301, Best Epoch: 44\n"
     ]
    },
    {
     "name": "stderr",
     "output_type": "stream",
     "text": [
      "\n",
      "                                                       9, Best Epoch: 45\u001B[A\r\n",
      "Epoch:   8%|▊         | 44/575 [00:41<08:14,  1.07it/s]                 \n",
      "Epoch:   8%|▊         | 45/575 [00:41<08:09,  1.08it/s]9, Best Epoch: 45\u001B[A"
     ]
    },
    {
     "name": "stdout",
     "output_type": "stream",
     "text": [
      "Epoch 45/575,  Loss:0.7289, F1:0.5116,  Best Loss:0.7289, Best Epoch: 45\n"
     ]
    },
    {
     "name": "stderr",
     "output_type": "stream",
     "text": [
      "\n",
      "                                                       8, Best Epoch: 46\u001B[A\r\n",
      "Epoch:   8%|▊         | 45/575 [00:42<08:09,  1.08it/s]                 \n",
      "Epoch:   8%|▊         | 46/575 [00:42<08:12,  1.08it/s]8, Best Epoch: 46\u001B[A"
     ]
    },
    {
     "name": "stdout",
     "output_type": "stream",
     "text": [
      "Epoch 46/575,  Loss:0.7278, F1:0.5087,  Best Loss:0.7278, Best Epoch: 46\n"
     ]
    },
    {
     "name": "stderr",
     "output_type": "stream",
     "text": [
      "\n",
      "                                                       6, Best Epoch: 47\u001B[A\r\n",
      "Epoch:   8%|▊         | 46/575 [00:43<08:12,  1.08it/s]                 \n",
      "Epoch:   8%|▊         | 47/575 [00:43<08:08,  1.08it/s]6, Best Epoch: 47\u001B[A"
     ]
    },
    {
     "name": "stdout",
     "output_type": "stream",
     "text": [
      "Epoch 47/575,  Loss:0.7266, F1:0.5101,  Best Loss:0.7266, Best Epoch: 47\n"
     ]
    },
    {
     "name": "stderr",
     "output_type": "stream",
     "text": [
      "\n",
      "                                                       5, Best Epoch: 48\u001B[A\r\n",
      "Epoch:   8%|▊         | 47/575 [00:44<08:08,  1.08it/s]                 \n",
      "Epoch:   8%|▊         | 48/575 [00:44<08:05,  1.09it/s]5, Best Epoch: 48\u001B[A"
     ]
    },
    {
     "name": "stdout",
     "output_type": "stream",
     "text": [
      "Epoch 48/575,  Loss:0.7255, F1:0.5087,  Best Loss:0.7255, Best Epoch: 48\n"
     ]
    },
    {
     "name": "stderr",
     "output_type": "stream",
     "text": [
      "\n",
      "                                                       2, Best Epoch: 49\u001B[A\r\n",
      "Epoch:   8%|▊         | 48/575 [00:45<08:05,  1.09it/s]                 \n",
      "Epoch:   9%|▊         | 49/575 [00:45<08:03,  1.09it/s]2, Best Epoch: 49\u001B[A"
     ]
    },
    {
     "name": "stdout",
     "output_type": "stream",
     "text": [
      "Epoch 49/575,  Loss:0.7242, F1:0.5087,  Best Loss:0.7242, Best Epoch: 49\n"
     ]
    },
    {
     "name": "stderr",
     "output_type": "stream",
     "text": [
      "\n",
      "                                                       0, Best Epoch: 50\u001B[A\r\n",
      "Epoch:   9%|▊         | 49/575 [00:46<08:03,  1.09it/s]                 \n",
      "Epoch:   9%|▊         | 50/575 [00:46<08:05,  1.08it/s]0, Best Epoch: 50\u001B[A"
     ]
    },
    {
     "name": "stdout",
     "output_type": "stream",
     "text": [
      "Epoch 50/575,  Loss:0.7230, F1:0.5130,  Best Loss:0.7230, Best Epoch: 50\n"
     ]
    },
    {
     "name": "stderr",
     "output_type": "stream",
     "text": [
      "\n",
      "                                                       8, Best Epoch: 51\u001B[A\r\n",
      "Epoch:   9%|▊         | 50/575 [00:47<08:05,  1.08it/s]                 \n",
      "Epoch:   9%|▉         | 51/575 [00:47<08:05,  1.08it/s]8, Best Epoch: 51\u001B[A"
     ]
    },
    {
     "name": "stdout",
     "output_type": "stream",
     "text": [
      "Epoch 51/575,  Loss:0.7218, F1:0.5159,  Best Loss:0.7218, Best Epoch: 51\n"
     ]
    },
    {
     "name": "stderr",
     "output_type": "stream",
     "text": [
      "\n",
      "                                                       5, Best Epoch: 52\u001B[A\r\n",
      "Epoch:   9%|▉         | 51/575 [00:48<08:05,  1.08it/s]                 \n",
      "Epoch:   9%|▉         | 52/575 [00:48<08:13,  1.06it/s]5, Best Epoch: 52\u001B[A"
     ]
    },
    {
     "name": "stdout",
     "output_type": "stream",
     "text": [
      "Epoch 52/575,  Loss:0.7205, F1:0.5159,  Best Loss:0.7205, Best Epoch: 52\n"
     ]
    },
    {
     "name": "stderr",
     "output_type": "stream",
     "text": [
      "\n",
      "                                                       2, Best Epoch: 53\u001B[A\r\n",
      "Epoch:   9%|▉         | 52/575 [00:48<08:13,  1.06it/s]                 \n",
      "Epoch:   9%|▉         | 53/575 [00:48<08:10,  1.07it/s]2, Best Epoch: 53\u001B[A"
     ]
    },
    {
     "name": "stdout",
     "output_type": "stream",
     "text": [
      "Epoch 53/575,  Loss:0.7192, F1:0.5130,  Best Loss:0.7192, Best Epoch: 53\n"
     ]
    },
    {
     "name": "stderr",
     "output_type": "stream",
     "text": [
      "\n",
      "                                                       8, Best Epoch: 54\u001B[A\r\n",
      "Epoch:   9%|▉         | 53/575 [00:49<08:10,  1.07it/s]                 \n",
      "Epoch:   9%|▉         | 54/575 [00:49<08:06,  1.07it/s]8, Best Epoch: 54\u001B[A"
     ]
    },
    {
     "name": "stdout",
     "output_type": "stream",
     "text": [
      "Epoch 54/575,  Loss:0.7178, F1:0.5130,  Best Loss:0.7178, Best Epoch: 54\n"
     ]
    },
    {
     "name": "stderr",
     "output_type": "stream",
     "text": [
      "\n",
      "                                                       3, Best Epoch: 55\u001B[A\r\n",
      "Epoch:   9%|▉         | 54/575 [00:50<08:06,  1.07it/s]                 \n",
      "Epoch:  10%|▉         | 55/575 [00:50<08:06,  1.07it/s]3, Best Epoch: 55\u001B[A"
     ]
    },
    {
     "name": "stdout",
     "output_type": "stream",
     "text": [
      "Epoch 55/575,  Loss:0.7163, F1:0.5116,  Best Loss:0.7163, Best Epoch: 55\n"
     ]
    },
    {
     "name": "stderr",
     "output_type": "stream",
     "text": [
      "\n",
      "                                                       9, Best Epoch: 56\u001B[A\r\n",
      "Epoch:  10%|▉         | 55/575 [00:51<08:06,  1.07it/s]                 \n",
      "Epoch:  10%|▉         | 56/575 [00:51<08:00,  1.08it/s]9, Best Epoch: 56\u001B[A"
     ]
    },
    {
     "name": "stdout",
     "output_type": "stream",
     "text": [
      "Epoch 56/575,  Loss:0.7149, F1:0.5145,  Best Loss:0.7149, Best Epoch: 56\n"
     ]
    },
    {
     "ename": "KeyboardInterrupt",
     "evalue": "",
     "output_type": "error",
     "traceback": [
      "\u001B[0;31m---------------------------------------------------------------------------\u001B[0m",
      "\u001B[0;31mKeyboardInterrupt\u001B[0m                         Traceback (most recent call last)",
      "\u001B[0;32m/media/pc/WORK/DNTAI/works/prlab/2021/projects/210912_prlab_kerc21_challenges/workspaces/KERC21Baseline/train_baseline.py\u001B[0m in \u001B[0;36m<module>\u001B[0;34m\u001B[0m\n\u001B[1;32m     96\u001B[0m         \u001B[0;32mif\u001B[0m \u001B[0margs\u001B[0m\u001B[0;34m.\u001B[0m\u001B[0mexp_dir\u001B[0m \u001B[0;34m!=\u001B[0m \u001B[0;34m\"\"\u001B[0m \u001B[0;32mand\u001B[0m \u001B[0mos\u001B[0m\u001B[0;34m.\u001B[0m\u001B[0mpath\u001B[0m\u001B[0;34m.\u001B[0m\u001B[0mexists\u001B[0m\u001B[0;34m(\u001B[0m\u001B[0margs\u001B[0m\u001B[0;34m.\u001B[0m\u001B[0mexp_dir\u001B[0m\u001B[0;34m)\u001B[0m \u001B[0;34m==\u001B[0m \u001B[0;32mFalse\u001B[0m\u001B[0;34m:\u001B[0m \u001B[0mos\u001B[0m\u001B[0;34m.\u001B[0m\u001B[0mmakedirs\u001B[0m\u001B[0;34m(\u001B[0m\u001B[0margs\u001B[0m\u001B[0;34m.\u001B[0m\u001B[0mexp_dir\u001B[0m\u001B[0;34m)\u001B[0m\u001B[0;34m\u001B[0m\u001B[0;34m\u001B[0m\u001B[0m\n\u001B[1;32m     97\u001B[0m         \u001B[0;32mif\u001B[0m \u001B[0mtee_log\u001B[0m \u001B[0;32mis\u001B[0m \u001B[0;32mnot\u001B[0m \u001B[0;32mNone\u001B[0m\u001B[0;34m:\u001B[0m \u001B[0mtee_log\u001B[0m\u001B[0;34m.\u001B[0m\u001B[0mappend\u001B[0m\u001B[0;34m(\u001B[0m\u001B[0;34mf'{args.exp_dir}/{args.logs_file}'\u001B[0m\u001B[0;34m)\u001B[0m\u001B[0;34m\u001B[0m\u001B[0;34m\u001B[0m\u001B[0m\n\u001B[0;32m---> 98\u001B[0;31m         \u001B[0mtrain\u001B[0m\u001B[0;34m(\u001B[0m\u001B[0margs\u001B[0m\u001B[0;34m,\u001B[0m \u001B[0mglobals\u001B[0m\u001B[0;34m(\u001B[0m\u001B[0;34m)\u001B[0m\u001B[0;34m)\u001B[0m\u001B[0;34m\u001B[0m\u001B[0;34m\u001B[0m\u001B[0m\n\u001B[0m\u001B[1;32m     99\u001B[0m     \u001B[0;31m# with\u001B[0m\u001B[0;34m\u001B[0m\u001B[0;34m\u001B[0m\u001B[0;34m\u001B[0m\u001B[0m\n",
      "\u001B[0;32m/media/pc/WORK/DNTAI/works/prlab/2021/projects/210912_prlab_kerc21_challenges/workspaces/KERC21Baseline/train_baseline.py\u001B[0m in \u001B[0;36mtrain\u001B[0;34m(args, global_scope, **kwargs)\u001B[0m\n\u001B[1;32m     85\u001B[0m \u001B[0;34m\u001B[0m\u001B[0m\n\u001B[1;32m     86\u001B[0m     \u001B[0;31m# Training\u001B[0m\u001B[0;34m\u001B[0m\u001B[0;34m\u001B[0m\u001B[0;34m\u001B[0m\u001B[0m\n\u001B[0;32m---> 87\u001B[0;31m     \u001B[0mbaseline\u001B[0m\u001B[0;34m.\u001B[0m\u001B[0mtrain\u001B[0m\u001B[0;34m(\u001B[0m\u001B[0;34m)\u001B[0m\u001B[0;34m\u001B[0m\u001B[0;34m\u001B[0m\u001B[0m\n\u001B[0m\u001B[1;32m     88\u001B[0m \u001B[0;34m\u001B[0m\u001B[0m\n\u001B[1;32m     89\u001B[0m     \u001B[0;32mif\u001B[0m \u001B[0mglobal_scope\u001B[0m \u001B[0;32mis\u001B[0m \u001B[0;32mnot\u001B[0m \u001B[0;32mNone\u001B[0m\u001B[0;34m:\u001B[0m \u001B[0mglobal_scope\u001B[0m\u001B[0;34m.\u001B[0m\u001B[0mupdate\u001B[0m\u001B[0;34m(\u001B[0m\u001B[0;34m**\u001B[0m\u001B[0mlocals\u001B[0m\u001B[0;34m(\u001B[0m\u001B[0;34m)\u001B[0m\u001B[0;34m)\u001B[0m\u001B[0;34m\u001B[0m\u001B[0;34m\u001B[0m\u001B[0m\n",
      "\u001B[0;32m/media/pc/WORK/DNTAI/works/prlab/2021/projects/210912_prlab_kerc21_challenges/workspaces/KERC21Baseline/baseline.py\u001B[0m in \u001B[0;36mtrain\u001B[0;34m(self)\u001B[0m\n\u001B[1;32m     52\u001B[0m             \u001B[0mtrain_pred_list\u001B[0m \u001B[0;34m=\u001B[0m \u001B[0;34m[\u001B[0m\u001B[0;34m]\u001B[0m\u001B[0;34m\u001B[0m\u001B[0;34m\u001B[0m\u001B[0m\n\u001B[1;32m     53\u001B[0m \u001B[0;34m\u001B[0m\u001B[0m\n\u001B[0;32m---> 54\u001B[0;31m             \u001B[0;32mfor\u001B[0m \u001B[0meeg\u001B[0m\u001B[0;34m,\u001B[0m \u001B[0meda\u001B[0m\u001B[0;34m,\u001B[0m \u001B[0mbvp\u001B[0m\u001B[0;34m,\u001B[0m \u001B[0mpersonality\u001B[0m\u001B[0;34m,\u001B[0m \u001B[0mlabels\u001B[0m\u001B[0;34m,\u001B[0m \u001B[0m_\u001B[0m \u001B[0;32min\u001B[0m \u001B[0mtrain_dataloader\u001B[0m\u001B[0;34m:\u001B[0m\u001B[0;34m\u001B[0m\u001B[0;34m\u001B[0m\u001B[0m\n\u001B[0m\u001B[1;32m     55\u001B[0m                 \u001B[0;31m#eeg_gasf = eeg_gasf.to(self.device)\u001B[0m\u001B[0;34m\u001B[0m\u001B[0;34m\u001B[0m\u001B[0;34m\u001B[0m\u001B[0m\n\u001B[1;32m     56\u001B[0m                 \u001B[0meeg\u001B[0m \u001B[0;34m=\u001B[0m \u001B[0meeg\u001B[0m\u001B[0;34m.\u001B[0m\u001B[0mto\u001B[0m\u001B[0;34m(\u001B[0m\u001B[0mself\u001B[0m\u001B[0;34m.\u001B[0m\u001B[0mdevice\u001B[0m\u001B[0;34m)\u001B[0m\u001B[0;34m\u001B[0m\u001B[0;34m\u001B[0m\u001B[0m\n",
      "\u001B[0;32m~/dntai/.conda/envs/kerc21_env/lib/python3.8/site-packages/torch/utils/data/dataloader.py\u001B[0m in \u001B[0;36m__next__\u001B[0;34m(self)\u001B[0m\n\u001B[1;32m    519\u001B[0m             \u001B[0;32mif\u001B[0m \u001B[0mself\u001B[0m\u001B[0;34m.\u001B[0m\u001B[0m_sampler_iter\u001B[0m \u001B[0;32mis\u001B[0m \u001B[0;32mNone\u001B[0m\u001B[0;34m:\u001B[0m\u001B[0;34m\u001B[0m\u001B[0;34m\u001B[0m\u001B[0m\n\u001B[1;32m    520\u001B[0m                 \u001B[0mself\u001B[0m\u001B[0;34m.\u001B[0m\u001B[0m_reset\u001B[0m\u001B[0;34m(\u001B[0m\u001B[0;34m)\u001B[0m\u001B[0;34m\u001B[0m\u001B[0;34m\u001B[0m\u001B[0m\n\u001B[0;32m--> 521\u001B[0;31m             \u001B[0mdata\u001B[0m \u001B[0;34m=\u001B[0m \u001B[0mself\u001B[0m\u001B[0;34m.\u001B[0m\u001B[0m_next_data\u001B[0m\u001B[0;34m(\u001B[0m\u001B[0;34m)\u001B[0m\u001B[0;34m\u001B[0m\u001B[0;34m\u001B[0m\u001B[0m\n\u001B[0m\u001B[1;32m    522\u001B[0m             \u001B[0mself\u001B[0m\u001B[0;34m.\u001B[0m\u001B[0m_num_yielded\u001B[0m \u001B[0;34m+=\u001B[0m \u001B[0;36m1\u001B[0m\u001B[0;34m\u001B[0m\u001B[0;34m\u001B[0m\u001B[0m\n\u001B[1;32m    523\u001B[0m             \u001B[0;32mif\u001B[0m \u001B[0mself\u001B[0m\u001B[0;34m.\u001B[0m\u001B[0m_dataset_kind\u001B[0m \u001B[0;34m==\u001B[0m \u001B[0m_DatasetKind\u001B[0m\u001B[0;34m.\u001B[0m\u001B[0mIterable\u001B[0m \u001B[0;32mand\u001B[0m\u001B[0;31m \u001B[0m\u001B[0;31m\\\u001B[0m\u001B[0;34m\u001B[0m\u001B[0;34m\u001B[0m\u001B[0m\n",
      "\u001B[0;32m~/dntai/.conda/envs/kerc21_env/lib/python3.8/site-packages/torch/utils/data/dataloader.py\u001B[0m in \u001B[0;36m_next_data\u001B[0;34m(self)\u001B[0m\n\u001B[1;32m    559\u001B[0m     \u001B[0;32mdef\u001B[0m \u001B[0m_next_data\u001B[0m\u001B[0;34m(\u001B[0m\u001B[0mself\u001B[0m\u001B[0;34m)\u001B[0m\u001B[0;34m:\u001B[0m\u001B[0;34m\u001B[0m\u001B[0;34m\u001B[0m\u001B[0m\n\u001B[1;32m    560\u001B[0m         \u001B[0mindex\u001B[0m \u001B[0;34m=\u001B[0m \u001B[0mself\u001B[0m\u001B[0;34m.\u001B[0m\u001B[0m_next_index\u001B[0m\u001B[0;34m(\u001B[0m\u001B[0;34m)\u001B[0m  \u001B[0;31m# may raise StopIteration\u001B[0m\u001B[0;34m\u001B[0m\u001B[0;34m\u001B[0m\u001B[0m\n\u001B[0;32m--> 561\u001B[0;31m         \u001B[0mdata\u001B[0m \u001B[0;34m=\u001B[0m \u001B[0mself\u001B[0m\u001B[0;34m.\u001B[0m\u001B[0m_dataset_fetcher\u001B[0m\u001B[0;34m.\u001B[0m\u001B[0mfetch\u001B[0m\u001B[0;34m(\u001B[0m\u001B[0mindex\u001B[0m\u001B[0;34m)\u001B[0m  \u001B[0;31m# may raise StopIteration\u001B[0m\u001B[0;34m\u001B[0m\u001B[0;34m\u001B[0m\u001B[0m\n\u001B[0m\u001B[1;32m    562\u001B[0m         \u001B[0;32mif\u001B[0m \u001B[0mself\u001B[0m\u001B[0;34m.\u001B[0m\u001B[0m_pin_memory\u001B[0m\u001B[0;34m:\u001B[0m\u001B[0;34m\u001B[0m\u001B[0;34m\u001B[0m\u001B[0m\n\u001B[1;32m    563\u001B[0m             \u001B[0mdata\u001B[0m \u001B[0;34m=\u001B[0m \u001B[0m_utils\u001B[0m\u001B[0;34m.\u001B[0m\u001B[0mpin_memory\u001B[0m\u001B[0;34m.\u001B[0m\u001B[0mpin_memory\u001B[0m\u001B[0;34m(\u001B[0m\u001B[0mdata\u001B[0m\u001B[0;34m)\u001B[0m\u001B[0;34m\u001B[0m\u001B[0;34m\u001B[0m\u001B[0m\n",
      "\u001B[0;32m~/dntai/.conda/envs/kerc21_env/lib/python3.8/site-packages/torch/utils/data/_utils/fetch.py\u001B[0m in \u001B[0;36mfetch\u001B[0;34m(self, possibly_batched_index)\u001B[0m\n\u001B[1;32m     42\u001B[0m     \u001B[0;32mdef\u001B[0m \u001B[0mfetch\u001B[0m\u001B[0;34m(\u001B[0m\u001B[0mself\u001B[0m\u001B[0;34m,\u001B[0m \u001B[0mpossibly_batched_index\u001B[0m\u001B[0;34m)\u001B[0m\u001B[0;34m:\u001B[0m\u001B[0;34m\u001B[0m\u001B[0;34m\u001B[0m\u001B[0m\n\u001B[1;32m     43\u001B[0m         \u001B[0;32mif\u001B[0m \u001B[0mself\u001B[0m\u001B[0;34m.\u001B[0m\u001B[0mauto_collation\u001B[0m\u001B[0;34m:\u001B[0m\u001B[0;34m\u001B[0m\u001B[0;34m\u001B[0m\u001B[0m\n\u001B[0;32m---> 44\u001B[0;31m             \u001B[0mdata\u001B[0m \u001B[0;34m=\u001B[0m \u001B[0;34m[\u001B[0m\u001B[0mself\u001B[0m\u001B[0;34m.\u001B[0m\u001B[0mdataset\u001B[0m\u001B[0;34m[\u001B[0m\u001B[0midx\u001B[0m\u001B[0;34m]\u001B[0m \u001B[0;32mfor\u001B[0m \u001B[0midx\u001B[0m \u001B[0;32min\u001B[0m \u001B[0mpossibly_batched_index\u001B[0m\u001B[0;34m]\u001B[0m\u001B[0;34m\u001B[0m\u001B[0;34m\u001B[0m\u001B[0m\n\u001B[0m\u001B[1;32m     45\u001B[0m         \u001B[0;32melse\u001B[0m\u001B[0;34m:\u001B[0m\u001B[0;34m\u001B[0m\u001B[0;34m\u001B[0m\u001B[0m\n\u001B[1;32m     46\u001B[0m             \u001B[0mdata\u001B[0m \u001B[0;34m=\u001B[0m \u001B[0mself\u001B[0m\u001B[0;34m.\u001B[0m\u001B[0mdataset\u001B[0m\u001B[0;34m[\u001B[0m\u001B[0mpossibly_batched_index\u001B[0m\u001B[0;34m]\u001B[0m\u001B[0;34m\u001B[0m\u001B[0;34m\u001B[0m\u001B[0m\n",
      "\u001B[0;32m~/dntai/.conda/envs/kerc21_env/lib/python3.8/site-packages/torch/utils/data/_utils/fetch.py\u001B[0m in \u001B[0;36m<listcomp>\u001B[0;34m(.0)\u001B[0m\n\u001B[1;32m     42\u001B[0m     \u001B[0;32mdef\u001B[0m \u001B[0mfetch\u001B[0m\u001B[0;34m(\u001B[0m\u001B[0mself\u001B[0m\u001B[0;34m,\u001B[0m \u001B[0mpossibly_batched_index\u001B[0m\u001B[0;34m)\u001B[0m\u001B[0;34m:\u001B[0m\u001B[0;34m\u001B[0m\u001B[0;34m\u001B[0m\u001B[0m\n\u001B[1;32m     43\u001B[0m         \u001B[0;32mif\u001B[0m \u001B[0mself\u001B[0m\u001B[0;34m.\u001B[0m\u001B[0mauto_collation\u001B[0m\u001B[0;34m:\u001B[0m\u001B[0;34m\u001B[0m\u001B[0;34m\u001B[0m\u001B[0m\n\u001B[0;32m---> 44\u001B[0;31m             \u001B[0mdata\u001B[0m \u001B[0;34m=\u001B[0m \u001B[0;34m[\u001B[0m\u001B[0mself\u001B[0m\u001B[0;34m.\u001B[0m\u001B[0mdataset\u001B[0m\u001B[0;34m[\u001B[0m\u001B[0midx\u001B[0m\u001B[0;34m]\u001B[0m \u001B[0;32mfor\u001B[0m \u001B[0midx\u001B[0m \u001B[0;32min\u001B[0m \u001B[0mpossibly_batched_index\u001B[0m\u001B[0;34m]\u001B[0m\u001B[0;34m\u001B[0m\u001B[0;34m\u001B[0m\u001B[0m\n\u001B[0m\u001B[1;32m     45\u001B[0m         \u001B[0;32melse\u001B[0m\u001B[0;34m:\u001B[0m\u001B[0;34m\u001B[0m\u001B[0;34m\u001B[0m\u001B[0m\n\u001B[1;32m     46\u001B[0m             \u001B[0mdata\u001B[0m \u001B[0;34m=\u001B[0m \u001B[0mself\u001B[0m\u001B[0;34m.\u001B[0m\u001B[0mdataset\u001B[0m\u001B[0;34m[\u001B[0m\u001B[0mpossibly_batched_index\u001B[0m\u001B[0;34m]\u001B[0m\u001B[0;34m\u001B[0m\u001B[0;34m\u001B[0m\u001B[0m\n",
      "\u001B[0;32m/media/pc/WORK/DNTAI/works/prlab/2021/projects/210912_prlab_kerc21_challenges/workspaces/KERC21Baseline/dataset.py\u001B[0m in \u001B[0;36m__getitem__\u001B[0;34m(self, index)\u001B[0m\n\u001B[1;32m     42\u001B[0m         \u001B[0msample_id\u001B[0m \u001B[0;34m=\u001B[0m \u001B[0mself\u001B[0m\u001B[0;34m.\u001B[0m\u001B[0msample_ids\u001B[0m\u001B[0;34m[\u001B[0m\u001B[0mindex\u001B[0m\u001B[0;34m]\u001B[0m\u001B[0;34m\u001B[0m\u001B[0;34m\u001B[0m\u001B[0m\n\u001B[1;32m     43\u001B[0m         \u001B[0meeg_ftrs\u001B[0m \u001B[0;34m=\u001B[0m \u001B[0mtorch\u001B[0m\u001B[0;34m.\u001B[0m\u001B[0mfrom_numpy\u001B[0m\u001B[0;34m(\u001B[0m\u001B[0mnp\u001B[0m\u001B[0;34m.\u001B[0m\u001B[0mload\u001B[0m\u001B[0;34m(\u001B[0m\u001B[0;34mf\"{self.dataset_dir}/{self.data_type}/{sample_id}_EEG_ftrs.npy\"\u001B[0m\u001B[0;34m)\u001B[0m\u001B[0;34m)\u001B[0m\u001B[0;34m.\u001B[0m\u001B[0mtype\u001B[0m\u001B[0;34m(\u001B[0m\u001B[0mtorch\u001B[0m\u001B[0;34m.\u001B[0m\u001B[0mFloatTensor\u001B[0m\u001B[0;34m)\u001B[0m\u001B[0;34m\u001B[0m\u001B[0;34m\u001B[0m\u001B[0m\n\u001B[0;32m---> 44\u001B[0;31m         \u001B[0meda_ftrs\u001B[0m \u001B[0;34m=\u001B[0m \u001B[0mtorch\u001B[0m\u001B[0;34m.\u001B[0m\u001B[0mfrom_numpy\u001B[0m\u001B[0;34m(\u001B[0m\u001B[0mnp\u001B[0m\u001B[0;34m.\u001B[0m\u001B[0mload\u001B[0m\u001B[0;34m(\u001B[0m\u001B[0;34mf\"{self.dataset_dir}/{self.data_type}/{sample_id}_EDA.npy\"\u001B[0m\u001B[0;34m)\u001B[0m\u001B[0;34m)\u001B[0m\u001B[0;34m.\u001B[0m\u001B[0mtype\u001B[0m\u001B[0;34m(\u001B[0m\u001B[0mtorch\u001B[0m\u001B[0;34m.\u001B[0m\u001B[0mFloatTensor\u001B[0m\u001B[0;34m)\u001B[0m\u001B[0;34m\u001B[0m\u001B[0;34m\u001B[0m\u001B[0m\n\u001B[0m\u001B[1;32m     45\u001B[0m         \u001B[0mbvp_ftrs\u001B[0m \u001B[0;34m=\u001B[0m \u001B[0mtorch\u001B[0m\u001B[0;34m.\u001B[0m\u001B[0mfrom_numpy\u001B[0m\u001B[0;34m(\u001B[0m\u001B[0mnp\u001B[0m\u001B[0;34m.\u001B[0m\u001B[0mload\u001B[0m\u001B[0;34m(\u001B[0m\u001B[0;34mf\"{self.dataset_dir}/{self.data_type}/{sample_id}_BVP.npy\"\u001B[0m\u001B[0;34m)\u001B[0m\u001B[0;34m)\u001B[0m\u001B[0;34m.\u001B[0m\u001B[0mtype\u001B[0m\u001B[0;34m(\u001B[0m\u001B[0mtorch\u001B[0m\u001B[0;34m.\u001B[0m\u001B[0mFloatTensor\u001B[0m\u001B[0;34m)\u001B[0m\u001B[0;34m\u001B[0m\u001B[0;34m\u001B[0m\u001B[0m\n\u001B[1;32m     46\u001B[0m         \u001B[0mpersonality_ftrs\u001B[0m  \u001B[0;34m=\u001B[0m \u001B[0mtorch\u001B[0m\u001B[0;34m.\u001B[0m\u001B[0mfrom_numpy\u001B[0m\u001B[0;34m(\u001B[0m\u001B[0mself\u001B[0m\u001B[0;34m.\u001B[0m\u001B[0mpersonality_traits\u001B[0m\u001B[0;34m[\u001B[0m\u001B[0mself\u001B[0m\u001B[0;34m.\u001B[0m\u001B[0mpersonality_traits\u001B[0m\u001B[0;34m[\u001B[0m\u001B[0;34m'Id'\u001B[0m\u001B[0;34m]\u001B[0m\u001B[0;34m==\u001B[0m\u001B[0msample_id\u001B[0m\u001B[0;34m]\u001B[0m\u001B[0;34m.\u001B[0m\u001B[0miloc\u001B[0m\u001B[0;34m[\u001B[0m\u001B[0;36m0\u001B[0m\u001B[0;34m]\u001B[0m\u001B[0;34m.\u001B[0m\u001B[0mvalues\u001B[0m\u001B[0;34m[\u001B[0m\u001B[0;36m1\u001B[0m\u001B[0;34m:\u001B[0m\u001B[0;34m]\u001B[0m\u001B[0;34m.\u001B[0m\u001B[0mastype\u001B[0m\u001B[0;34m(\u001B[0m\u001B[0mint\u001B[0m\u001B[0;34m)\u001B[0m\u001B[0;34m)\u001B[0m\u001B[0;34m.\u001B[0m\u001B[0mtype\u001B[0m\u001B[0;34m(\u001B[0m\u001B[0mtorch\u001B[0m\u001B[0;34m.\u001B[0m\u001B[0mLongTensor\u001B[0m\u001B[0;34m)\u001B[0m\u001B[0;34m\u001B[0m\u001B[0;34m\u001B[0m\u001B[0m\n",
      "\u001B[0;32m~/dntai/.conda/envs/kerc21_env/lib/python3.8/site-packages/numpy/lib/npyio.py\u001B[0m in \u001B[0;36mload\u001B[0;34m(file, mmap_mode, allow_pickle, fix_imports, encoding)\u001B[0m\n\u001B[1;32m    437\u001B[0m                 \u001B[0;32mreturn\u001B[0m \u001B[0mformat\u001B[0m\u001B[0;34m.\u001B[0m\u001B[0mopen_memmap\u001B[0m\u001B[0;34m(\u001B[0m\u001B[0mfile\u001B[0m\u001B[0;34m,\u001B[0m \u001B[0mmode\u001B[0m\u001B[0;34m=\u001B[0m\u001B[0mmmap_mode\u001B[0m\u001B[0;34m)\u001B[0m\u001B[0;34m\u001B[0m\u001B[0;34m\u001B[0m\u001B[0m\n\u001B[1;32m    438\u001B[0m             \u001B[0;32melse\u001B[0m\u001B[0;34m:\u001B[0m\u001B[0;34m\u001B[0m\u001B[0;34m\u001B[0m\u001B[0m\n\u001B[0;32m--> 439\u001B[0;31m                 return format.read_array(fid, allow_pickle=allow_pickle,\n\u001B[0m\u001B[1;32m    440\u001B[0m                                          pickle_kwargs=pickle_kwargs)\n\u001B[1;32m    441\u001B[0m         \u001B[0;32melse\u001B[0m\u001B[0;34m:\u001B[0m\u001B[0;34m\u001B[0m\u001B[0;34m\u001B[0m\u001B[0m\n",
      "\u001B[0;32m~/dntai/.conda/envs/kerc21_env/lib/python3.8/site-packages/numpy/lib/format.py\u001B[0m in \u001B[0;36mread_array\u001B[0;34m(fp, allow_pickle, pickle_kwargs)\u001B[0m\n\u001B[1;32m    715\u001B[0m     \u001B[0mversion\u001B[0m \u001B[0;34m=\u001B[0m \u001B[0mread_magic\u001B[0m\u001B[0;34m(\u001B[0m\u001B[0mfp\u001B[0m\u001B[0;34m)\u001B[0m\u001B[0;34m\u001B[0m\u001B[0;34m\u001B[0m\u001B[0m\n\u001B[1;32m    716\u001B[0m     \u001B[0m_check_version\u001B[0m\u001B[0;34m(\u001B[0m\u001B[0mversion\u001B[0m\u001B[0;34m)\u001B[0m\u001B[0;34m\u001B[0m\u001B[0;34m\u001B[0m\u001B[0m\n\u001B[0;32m--> 717\u001B[0;31m     \u001B[0mshape\u001B[0m\u001B[0;34m,\u001B[0m \u001B[0mfortran_order\u001B[0m\u001B[0;34m,\u001B[0m \u001B[0mdtype\u001B[0m \u001B[0;34m=\u001B[0m \u001B[0m_read_array_header\u001B[0m\u001B[0;34m(\u001B[0m\u001B[0mfp\u001B[0m\u001B[0;34m,\u001B[0m \u001B[0mversion\u001B[0m\u001B[0;34m)\u001B[0m\u001B[0;34m\u001B[0m\u001B[0;34m\u001B[0m\u001B[0m\n\u001B[0m\u001B[1;32m    718\u001B[0m     \u001B[0;32mif\u001B[0m \u001B[0mlen\u001B[0m\u001B[0;34m(\u001B[0m\u001B[0mshape\u001B[0m\u001B[0;34m)\u001B[0m \u001B[0;34m==\u001B[0m \u001B[0;36m0\u001B[0m\u001B[0;34m:\u001B[0m\u001B[0;34m\u001B[0m\u001B[0;34m\u001B[0m\u001B[0m\n\u001B[1;32m    719\u001B[0m         \u001B[0mcount\u001B[0m \u001B[0;34m=\u001B[0m \u001B[0;36m1\u001B[0m\u001B[0;34m\u001B[0m\u001B[0;34m\u001B[0m\u001B[0m\n",
      "\u001B[0;32m~/dntai/.conda/envs/kerc21_env/lib/python3.8/site-packages/numpy/lib/format.py\u001B[0m in \u001B[0;36m_read_array_header\u001B[0;34m(fp, version)\u001B[0m\n\u001B[1;32m    579\u001B[0m     \u001B[0;31m#   \"fortran_order\" : bool\u001B[0m\u001B[0;34m\u001B[0m\u001B[0;34m\u001B[0m\u001B[0;34m\u001B[0m\u001B[0m\n\u001B[1;32m    580\u001B[0m     \u001B[0;31m#   \"descr\" : dtype.descr\u001B[0m\u001B[0;34m\u001B[0m\u001B[0;34m\u001B[0m\u001B[0;34m\u001B[0m\u001B[0m\n\u001B[0;32m--> 581\u001B[0;31m     \u001B[0mheader\u001B[0m \u001B[0;34m=\u001B[0m \u001B[0m_filter_header\u001B[0m\u001B[0;34m(\u001B[0m\u001B[0mheader\u001B[0m\u001B[0;34m)\u001B[0m\u001B[0;34m\u001B[0m\u001B[0;34m\u001B[0m\u001B[0m\n\u001B[0m\u001B[1;32m    582\u001B[0m     \u001B[0;32mtry\u001B[0m\u001B[0;34m:\u001B[0m\u001B[0;34m\u001B[0m\u001B[0;34m\u001B[0m\u001B[0m\n\u001B[1;32m    583\u001B[0m         \u001B[0md\u001B[0m \u001B[0;34m=\u001B[0m \u001B[0msafe_eval\u001B[0m\u001B[0;34m(\u001B[0m\u001B[0mheader\u001B[0m\u001B[0;34m)\u001B[0m\u001B[0;34m\u001B[0m\u001B[0;34m\u001B[0m\u001B[0m\n",
      "\u001B[0;32m~/dntai/.conda/envs/kerc21_env/lib/python3.8/site-packages/numpy/lib/format.py\u001B[0m in \u001B[0;36m_filter_header\u001B[0;34m(s)\u001B[0m\n\u001B[1;32m    539\u001B[0m     \"\"\"\n\u001B[1;32m    540\u001B[0m     \u001B[0;32mimport\u001B[0m \u001B[0mtokenize\u001B[0m\u001B[0;34m\u001B[0m\u001B[0;34m\u001B[0m\u001B[0m\n\u001B[0;32m--> 541\u001B[0;31m     \u001B[0;32mfrom\u001B[0m \u001B[0mio\u001B[0m \u001B[0;32mimport\u001B[0m \u001B[0mStringIO\u001B[0m\u001B[0;34m\u001B[0m\u001B[0;34m\u001B[0m\u001B[0m\n\u001B[0m\u001B[1;32m    542\u001B[0m \u001B[0;34m\u001B[0m\u001B[0m\n\u001B[1;32m    543\u001B[0m     \u001B[0mtokens\u001B[0m \u001B[0;34m=\u001B[0m \u001B[0;34m[\u001B[0m\u001B[0;34m]\u001B[0m\u001B[0;34m\u001B[0m\u001B[0;34m\u001B[0m\u001B[0m\n",
      "\u001B[0;31mKeyboardInterrupt\u001B[0m: "
     ]
    }
   ],
   "source": [
    "%run ../train_baseline.py --exp-dir {root_dir}/logs/baseline1"
   ]
  }
 ],
 "metadata": {
  "kernelspec": {
   "name": "kerc21_env",
   "language": "python",
   "display_name": "kerc21_env"
  },
  "language_info": {
   "codemirror_mode": {
    "name": "ipython",
    "version": 2
   },
   "file_extension": ".py",
   "mimetype": "text/x-python",
   "name": "python",
   "nbconvert_exporter": "python",
   "pygments_lexer": "ipython2",
   "version": "2.7.6"
  }
 },
 "nbformat": 4,
 "nbformat_minor": 0
}