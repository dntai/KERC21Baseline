{
 "cells": [
  {
   "cell_type": "code",
   "execution_count": 5,
   "metadata": {
    "collapsed": true,
    "pycharm": {
     "name": "#%%\n"
    }
   },
   "outputs": [
    {
     "name": "stderr",
     "output_type": "stream",
     "text": [
      "Process: 0it [00:00, ?it/s]"
     ]
    },
    {
     "name": "stdout",
     "output_type": "stream",
     "text": [
      "--------------------------------------------------\n",
      "TEST\n",
      "--------------------------------------------------\n",
      "run time:  2021-10-06 17:14:19\n",
      "args: \n",
      "+ config_file: /media/pc/WORK/DNTAI/works/prlab/2021/projects/210912_prlab_kerc21_challenges/workspaces/KERC21Baseline/configs/config.ini\n",
      "+ debug: 0\n",
      "+ evalf: ['exp_dir', 'model_path', 'export_path']\n",
      "+ exp_dir: /media/pc/WORK/DNTAI/works/prlab/2021/projects/210912_prlab_kerc21_challenges/workspaces/KERC21Baseline/logs/baseline1\n",
      "+ export_path: saved_model/submission_adler.csv\n",
      "+ gpu: 0\n",
      "+ logs_file: logs_test.txt\n",
      "+ model_path: saved_model/saved_model_lastest.pt\n",
      "+ seed: 42\n",
      "+ test_sets: ['val', 'test']\n",
      "config: {'batch_size': 400,\n",
      " 'cat_personality': 4,\n",
      " 'clf_out': 4,\n",
      " 'dataset_dir': '/media/pc/WORK/DNTAI/works/prlab/2021/projects/210912_prlab_kerc21_challenges/workspaces/KERC21Baseline/data/KERC21Dataset/preprocessed',\n",
      " 'dropout': 0.5,\n",
      " 'epochs': 575,\n",
      " 'learning_rate': 0.0001,\n",
      " 'lstm_hidden_dim': 128,\n",
      " 'lstm_num_layers': 2,\n",
      " 'size_bvp': 17,\n",
      " 'size_eda': 5,\n",
      " 'size_eeg_stat': 294,\n",
      " 'size_personality': 5}\n",
      "gpu: cuda:0 / 2 devices\n",
      "seed: 42\n",
      "--------------------------------------------------\n",
      "Testing: \n",
      "+ exp_dir: /media/pc/WORK/DNTAI/works/prlab/2021/projects/210912_prlab_kerc21_challenges/workspaces/KERC21Baseline/logs/baseline1\n",
      "+ model_path: saved_model/saved_model_lastest.pt\n",
      "+ test_sets: ['val', 'test']\n",
      "+ logs_file: logs_test.txt\n",
      "+ export_path: saved_model/submission_adler.csv\n"
     ]
    },
    {
     "name": "stderr",
     "output_type": "stream",
     "text": [
      "test: 2it [01:54, 57.09s/it]   \n",
      "test: 2it [00:00,  3.38it/s]"
     ]
    },
    {
     "name": "stdout",
     "output_type": "stream",
     "text": [
      "Saved /media/pc/WORK/DNTAI/works/prlab/2021/projects/210912_prlab_kerc21_challenges/workspaces/KERC21Baseline/logs/baseline1/saved_model/submission_adler.csv!\n"
     ]
    }
   ],
   "source": [
    "%run ../test_baseline.py --exp-dir {root_dir}/logs/baseline1"
   ]
  }
 ],
 "metadata": {
  "kernelspec": {
   "name": "kerc21_env",
   "language": "python",
   "display_name": "kerc21_env"
  },
  "language_info": {
   "codemirror_mode": {
    "name": "ipython",
    "version": 2
   },
   "file_extension": ".py",
   "mimetype": "text/x-python",
   "name": "python",
   "nbconvert_exporter": "python",
   "pygments_lexer": "ipython2",
   "version": "2.7.6"
  }
 },
 "nbformat": 4,
 "nbformat_minor": 0
}